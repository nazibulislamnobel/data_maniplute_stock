{
 "cells": [
  {
   "cell_type": "code",
   "execution_count": 1,
   "id": "4999727a",
   "metadata": {},
   "outputs": [],
   "source": [
    "import pandas as pd"
   ]
  },
  {
   "cell_type": "code",
   "execution_count": 11,
   "id": "154071c4",
   "metadata": {
    "collapsed": true
   },
   "outputs": [
    {
     "data": {
      "text/html": [
       "<div>\n",
       "<style scoped>\n",
       "    .dataframe tbody tr th:only-of-type {\n",
       "        vertical-align: middle;\n",
       "    }\n",
       "\n",
       "    .dataframe tbody tr th {\n",
       "        vertical-align: top;\n",
       "    }\n",
       "\n",
       "    .dataframe thead th {\n",
       "        text-align: right;\n",
       "    }\n",
       "</style>\n",
       "<table border=\"1\" class=\"dataframe\">\n",
       "  <thead>\n",
       "    <tr style=\"text-align: right;\">\n",
       "      <th></th>\n",
       "      <th>OutletCode</th>\n",
       "      <th>Outlet</th>\n",
       "      <th>ProductCode</th>\n",
       "      <th>Description</th>\n",
       "      <th>Stock</th>\n",
       "    </tr>\n",
       "  </thead>\n",
       "  <tbody>\n",
       "    <tr>\n",
       "      <th>0</th>\n",
       "      <td>C001</td>\n",
       "      <td>CTG Gol Pahar</td>\n",
       "      <td>2100045</td>\n",
       "      <td>Johnson NMT Shampoo Ind 100 ml</td>\n",
       "      <td>1</td>\n",
       "    </tr>\n",
       "    <tr>\n",
       "      <th>1</th>\n",
       "      <td>C001</td>\n",
       "      <td>CTG Gol Pahar</td>\n",
       "      <td>2100048</td>\n",
       "      <td>Meril Baby Shampoo 110 ml</td>\n",
       "      <td>2</td>\n",
       "    </tr>\n",
       "    <tr>\n",
       "      <th>2</th>\n",
       "      <td>C001</td>\n",
       "      <td>CTG Gol Pahar</td>\n",
       "      <td>2100049</td>\n",
       "      <td>Johnson Baby Hair Oil 100 ml (Ind)</td>\n",
       "      <td>22</td>\n",
       "    </tr>\n",
       "    <tr>\n",
       "      <th>3</th>\n",
       "      <td>C001</td>\n",
       "      <td>CTG Gol Pahar</td>\n",
       "      <td>2100077</td>\n",
       "      <td>Meril baby Gel Tooth Paste orange 45g</td>\n",
       "      <td>17</td>\n",
       "    </tr>\n",
       "    <tr>\n",
       "      <th>4</th>\n",
       "      <td>C001</td>\n",
       "      <td>CTG Gol Pahar</td>\n",
       "      <td>2100080</td>\n",
       "      <td>Johnson Milk+Rice Baby Bath 100ml MY</td>\n",
       "      <td>3</td>\n",
       "    </tr>\n",
       "  </tbody>\n",
       "</table>\n",
       "</div>"
      ],
      "text/plain": [
       "  OutletCode         Outlet  ProductCode  \\\n",
       "0       C001  CTG Gol Pahar      2100045   \n",
       "1       C001  CTG Gol Pahar      2100048   \n",
       "2       C001  CTG Gol Pahar      2100049   \n",
       "3       C001  CTG Gol Pahar      2100077   \n",
       "4       C001  CTG Gol Pahar      2100080   \n",
       "\n",
       "                             Description  Stock  \n",
       "0         Johnson NMT Shampoo Ind 100 ml      1  \n",
       "1              Meril Baby Shampoo 110 ml      2  \n",
       "2     Johnson Baby Hair Oil 100 ml (Ind)     22  \n",
       "3  Meril baby Gel Tooth Paste orange 45g     17  \n",
       "4   Johnson Milk+Rice Baby Bath 100ml MY      3  "
      ]
     },
     "execution_count": 11,
     "metadata": {},
     "output_type": "execute_result"
    }
   ],
   "source": [
    "df = pd.read_csv(\"C:\\\\Nobel\\\\Stock.csv\",skiprows=[0,1,2],encoding_errors='ignore',index_col=False)"
   ]
  },
  {
   "cell_type": "code",
   "execution_count": 13,
   "id": "4dd16847",
   "metadata": {},
   "outputs": [],
   "source": [
    "df.to_csv('UpdatedStock.csv', index=False)"
   ]
  }
 ],
 "metadata": {
  "kernelspec": {
   "display_name": "Python 3 (ipykernel)",
   "language": "python",
   "name": "python3"
  },
  "language_info": {
   "codemirror_mode": {
    "name": "ipython",
    "version": 3
   },
   "file_extension": ".py",
   "mimetype": "text/x-python",
   "name": "python",
   "nbconvert_exporter": "python",
   "pygments_lexer": "ipython3",
   "version": "3.10.9"
  }
 },
 "nbformat": 4,
 "nbformat_minor": 5
}
